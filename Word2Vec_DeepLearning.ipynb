{
  "nbformat": 4,
  "nbformat_minor": 0,
  "metadata": {
    "colab": {
      "name": "Word2Vec_DeepLearning.ipynb",
      "provenance": []
    },
    "kernelspec": {
      "name": "python3",
      "display_name": "Python 3"
    },
    "language_info": {
      "name": "python"
    }
  },
  "cells": [
    {
      "cell_type": "code",
      "metadata": {
        "colab": {
          "base_uri": "https://localhost:8080/"
        },
        "id": "H9M3fYItg_ec",
        "outputId": "829a3dca-258c-4ee1-8676-30388d230bcd"
      },
      "source": [
        "from google.colab import drive\n",
        "\n",
        "ROOT = \"/content/drive\"\n",
        "drive.mount(ROOT)"
      ],
      "execution_count": null,
      "outputs": [
        {
          "output_type": "stream",
          "name": "stdout",
          "text": [
            "Mounted at /content/drive\n"
          ]
        }
      ]
    },
    {
      "cell_type": "code",
      "metadata": {
        "colab": {
          "base_uri": "https://localhost:8080/"
        },
        "id": "6z6xq_0liV2o",
        "outputId": "299e7790-1419-4e9a-c94f-56588acd9eb3"
      },
      "source": [
        "cd '/content/drive/My Drive/data_worthcheck/'"
      ],
      "execution_count": null,
      "outputs": [
        {
          "output_type": "stream",
          "name": "stdout",
          "text": [
            "/content/drive/My Drive/data_worthcheck\n"
          ]
        }
      ]
    },
    {
      "cell_type": "markdown",
      "metadata": {
        "id": "36aEHx1GkGsZ"
      },
      "source": [
        "## Read The Data"
      ]
    },
    {
      "cell_type": "code",
      "metadata": {
        "colab": {
          "base_uri": "https://localhost:8080/",
          "height": 172
        },
        "id": "gZ239y6viZcv",
        "outputId": "beac7844-ef04-4678-9c0c-801117ba3215"
      },
      "source": [
        "import pandas as pd\n",
        "\n",
        "### Read train file\n",
        "train = pd.read_csv('train.csv')\n",
        "train.drop(['Unnamed: 0'], axis=1, inplace=True)\n",
        "train.rename(columns={'text_a': 'text'}, inplace=True)\n",
        "train.label.replace({'no': 0, 'yes': 1}, inplace=True)\n",
        "\n",
        "# ### Lowercase tiap kata pada train.text\n",
        "# train.text = train.text.apply(lambda sentence: sentence.lower())\n",
        "\n",
        "train.head(4)"
      ],
      "execution_count": null,
      "outputs": [
        {
          "output_type": "execute_result",
          "data": {
            "text/html": [
              "<div>\n",
              "<style scoped>\n",
              "    .dataframe tbody tr th:only-of-type {\n",
              "        vertical-align: middle;\n",
              "    }\n",
              "\n",
              "    .dataframe tbody tr th {\n",
              "        vertical-align: top;\n",
              "    }\n",
              "\n",
              "    .dataframe thead th {\n",
              "        text-align: right;\n",
              "    }\n",
              "</style>\n",
              "<table border=\"1\" class=\"dataframe\">\n",
              "  <thead>\n",
              "    <tr style=\"text-align: right;\">\n",
              "      <th></th>\n",
              "      <th>text</th>\n",
              "      <th>label</th>\n",
              "    </tr>\n",
              "  </thead>\n",
              "  <tbody>\n",
              "    <tr>\n",
              "      <th>0</th>\n",
              "      <td>betewe buka twitter cuman ngetweet liat home b...</td>\n",
              "      <td>0</td>\n",
              "    </tr>\n",
              "    <tr>\n",
              "      <th>1</th>\n",
              "      <td>mas piyuuu mugo2 corona tuh mulut tersumpal ma...</td>\n",
              "      <td>0</td>\n",
              "    </tr>\n",
              "    <tr>\n",
              "      <th>2</th>\n",
              "      <td>e100ss gini buka informasi sejelas nya identit...</td>\n",
              "      <td>1</td>\n",
              "    </tr>\n",
              "    <tr>\n",
              "      <th>3</th>\n",
              "      <td>neng solo wes ono terduga corona cobo neng ati...</td>\n",
              "      <td>0</td>\n",
              "    </tr>\n",
              "  </tbody>\n",
              "</table>\n",
              "</div>"
            ],
            "text/plain": [
              "                                                text  label\n",
              "0  betewe buka twitter cuman ngetweet liat home b...      0\n",
              "1  mas piyuuu mugo2 corona tuh mulut tersumpal ma...      0\n",
              "2  e100ss gini buka informasi sejelas nya identit...      1\n",
              "3  neng solo wes ono terduga corona cobo neng ati...      0"
            ]
          },
          "metadata": {},
          "execution_count": 3
        }
      ]
    },
    {
      "cell_type": "code",
      "metadata": {
        "colab": {
          "base_uri": "https://localhost:8080/",
          "height": 172
        },
        "id": "n7rLuh7DjKMp",
        "outputId": "41b0a525-a397-495c-ac9e-f3f6ca04a8d2"
      },
      "source": [
        "### Read test file\n",
        "test = pd.read_csv('test.csv')\n",
        "test.rename(columns={'text_a': 'text'}, inplace=True)\n",
        "test.label.replace({'no': 0, 'yes': 1}, inplace=True)\n",
        "\n",
        "# ### Lowercase tiap kata pada test.text\n",
        "# test.text = test.text.apply(lambda sentence: sentence.lower())\n",
        "\n",
        "test.head(4)"
      ],
      "execution_count": null,
      "outputs": [
        {
          "output_type": "execute_result",
          "data": {
            "text/html": [
              "<div>\n",
              "<style scoped>\n",
              "    .dataframe tbody tr th:only-of-type {\n",
              "        vertical-align: middle;\n",
              "    }\n",
              "\n",
              "    .dataframe tbody tr th {\n",
              "        vertical-align: top;\n",
              "    }\n",
              "\n",
              "    .dataframe thead th {\n",
              "        text-align: right;\n",
              "    }\n",
              "</style>\n",
              "<table border=\"1\" class=\"dataframe\">\n",
              "  <thead>\n",
              "    <tr style=\"text-align: right;\">\n",
              "      <th></th>\n",
              "      <th>text</th>\n",
              "      <th>label</th>\n",
              "    </tr>\n",
              "  </thead>\n",
              "  <tbody>\n",
              "    <tr>\n",
              "      <th>0</th>\n",
              "      <td>jek dajal ga depok bang</td>\n",
              "      <td>0</td>\n",
              "    </tr>\n",
              "    <tr>\n",
              "      <th>1</th>\n",
              "      <td>detikcom untung depok masuk wilayah nya ridwan...</td>\n",
              "      <td>0</td>\n",
              "    </tr>\n",
              "    <tr>\n",
              "      <th>2</th>\n",
              "      <td>df dom jakarta depok yg gunain vc cabang nya c...</td>\n",
              "      <td>0</td>\n",
              "    </tr>\n",
              "    <tr>\n",
              "      <th>3</th>\n",
              "      <td>your2rl depok jkt</td>\n",
              "      <td>0</td>\n",
              "    </tr>\n",
              "  </tbody>\n",
              "</table>\n",
              "</div>"
            ],
            "text/plain": [
              "                                                text  label\n",
              "0                            jek dajal ga depok bang      0\n",
              "1  detikcom untung depok masuk wilayah nya ridwan...      0\n",
              "2  df dom jakarta depok yg gunain vc cabang nya c...      0\n",
              "3                                  your2rl depok jkt      0"
            ]
          },
          "metadata": {},
          "execution_count": 4
        }
      ]
    },
    {
      "cell_type": "markdown",
      "metadata": {
        "id": "5SXQiZjykDy1"
      },
      "source": [
        "## Data Preprocessing"
      ]
    },
    {
      "cell_type": "code",
      "metadata": {
        "colab": {
          "base_uri": "https://localhost:8080/"
        },
        "id": "Hl1g4NAzj1y4",
        "outputId": "9122adec-49c4-4225-a278-07da6569b911"
      },
      "source": [
        "import nltk\n",
        "nltk.download(['punkt', 'wordnet', 'averaged_perceptron_tagger'], quiet=True)"
      ],
      "execution_count": null,
      "outputs": [
        {
          "output_type": "execute_result",
          "data": {
            "text/plain": [
              "True"
            ]
          },
          "metadata": {},
          "execution_count": 5
        }
      ]
    },
    {
      "cell_type": "code",
      "metadata": {
        "colab": {
          "base_uri": "https://localhost:8080/"
        },
        "id": "Nx--biX-kfan",
        "outputId": "d1e03eaf-1689-4837-95ee-4176166aa90f"
      },
      "source": [
        "### Membuat kamus token dari dataset\n",
        "from nltk.tokenize import word_tokenize\n",
        "\n",
        "vocabs = []\n",
        "for text in train.text:\n",
        "  vocabs.append(word_tokenize(text))\n",
        "\n",
        "len(vocabs)"
      ],
      "execution_count": null,
      "outputs": [
        {
          "output_type": "execute_result",
          "data": {
            "text/plain": [
              "21601"
            ]
          },
          "metadata": {},
          "execution_count": 6
        }
      ]
    },
    {
      "cell_type": "code",
      "metadata": {
        "colab": {
          "base_uri": "https://localhost:8080/"
        },
        "id": "8wyX15W9meGE",
        "outputId": "ba49299b-b6ad-4534-c51c-77ed1726ac17"
      },
      "source": [
        "### Penanganan kasus dimana text terbagi menjadi dua, seperti covid 19 yang\n",
        "### yang seharusnya merupakan satu kalimat menggunakan bigrams\n",
        "\n",
        "bigrams_vocabs = []\n",
        "for text in train.text:\n",
        "  bigrams_vocabs.append(list(nltk.bigrams(word_tokenize(text))))\n",
        "\n",
        "print('Bigrams vocab | len:', len(bigrams_vocabs))\n",
        "\n",
        "### Kurang tau contoh kasusnya seperti apa, tapi buat jaga2 buat dlu aja hehe\n",
        "trigrams_vocabs = []\n",
        "for text in train.text:\n",
        "  trigrams_vocabs.append(nltk.trigrams(word_tokenize(text)))\n",
        "\n",
        "print('Trigrams vocab | len:', len(trigrams_vocabs))"
      ],
      "execution_count": null,
      "outputs": [
        {
          "output_type": "stream",
          "name": "stdout",
          "text": [
            "Bigrams vocab | len: 21601\n",
            "Trigrams vocab | len: 21601\n"
          ]
        }
      ]
    },
    {
      "cell_type": "markdown",
      "metadata": {
        "id": "4lawHXcSvE96"
      },
      "source": [
        "## Implementation of Word Embedding with Gensim Word2Vec Model"
      ]
    },
    {
      "cell_type": "code",
      "metadata": {
        "id": "JQIILSkHrzSk"
      },
      "source": [
        "### Membuat model Word2Vec berdasarkan vocabs yang tersedia\n",
        "from gensim.models.word2vec import Word2Vec\n",
        "\n",
        "nlp_model = Word2Vec(vocabs, size=300, window=5, min_count=5, iter=5)"
      ],
      "execution_count": null,
      "outputs": []
    },
    {
      "cell_type": "code",
      "metadata": {
        "colab": {
          "base_uri": "https://localhost:8080/"
        },
        "id": "vwQ0ofq0wyvD",
        "outputId": "c18351c0-5e35-493b-e804-7b1ff3cf0acf"
      },
      "source": [
        "nlp_model.most_similar('twitter', topn=5)"
      ],
      "execution_count": null,
      "outputs": [
        {
          "output_type": "stream",
          "name": "stderr",
          "text": [
            "/usr/local/lib/python3.7/dist-packages/ipykernel_launcher.py:1: DeprecationWarning: Call to deprecated `most_similar` (Method will be removed in 4.0.0, use self.wv.most_similar() instead).\n",
            "  \"\"\"Entry point for launching an IPython kernel.\n"
          ]
        },
        {
          "output_type": "execute_result",
          "data": {
            "text/plain": [
              "[('gaji', 0.9986997842788696),\n",
              " ('tukang', 0.9977389574050903),\n",
              " ('zaman', 0.997003436088562),\n",
              " ('tlg', 0.9967533946037292),\n",
              " ('ngeles', 0.9967269897460938)]"
            ]
          },
          "metadata": {},
          "execution_count": 136
        }
      ]
    },
    {
      "cell_type": "code",
      "metadata": {
        "id": "O67cMCzw1IVs"
      },
      "source": [
        "### Membuat indexed dictionary\n",
        "from tensorflow.keras import preprocessing\n",
        "\n",
        "tokenizer = preprocessing.text.Tokenizer()\n",
        "tokenizer.fit_on_texts(vocabs)\n",
        "indexed_vocabulary = tokenizer.word_index"
      ],
      "execution_count": null,
      "outputs": []
    },
    {
      "cell_type": "code",
      "metadata": {
        "id": "qQbhEw0W19hF"
      },
      "source": [
        "### Buat text menjadi sequence of index memanfaatkan indexed_vocabulary\n",
        "### Get index from text\n",
        "\n",
        "texts_index = tokenizer.texts_to_sequences(vocabs)\n",
        "\n",
        "### Menambahkan padding pada tiap texts_index yang terdapat pada vocabs\n",
        "\n",
        "X_train = preprocessing.sequence.pad_sequences(texts_index, maxlen=28, padding='post', truncating='post')"
      ],
      "execution_count": null,
      "outputs": []
    },
    {
      "cell_type": "code",
      "metadata": {
        "colab": {
          "base_uri": "https://localhost:8080/"
        },
        "id": "NPhmgcp53hoB",
        "outputId": "7b0592cb-7fc0-4024-c124-1da816ef5d2a"
      },
      "source": [
        "### Let's see what it is looks like\n",
        "\n",
        "idx = 0\n",
        "print('Text:', train.text.iloc[idx])\n",
        "print('Seq:', X_train[idx])\n",
        "\n",
        "print('\\nCheck the index from indexed_vocabulary:')\n",
        "\n",
        "for word in word_tokenize(train.text[idx]):\n",
        "  print(word, ':', indexed_vocabulary[word])"
      ],
      "execution_count": null,
      "outputs": [
        {
          "output_type": "stream",
          "name": "stdout",
          "text": [
            "Text: betewe buka twitter cuman ngetweet liat home berita corona panik kepikiran ndamau buka2 home yg aware aja i ll stay at home nda rumah kalo nda penting2 banget\n",
            "Seq: [14225   134   536   631  6859   180   764    64     1   125  1685 14226\n",
            " 14227   764     6  1570    15   217  6860   259   537   764  2772    37\n",
            "    26  2772 10051    70]\n",
            "\n",
            "Check the index from indexed_vocabulary:\n",
            "betewe : 14225\n",
            "buka : 134\n",
            "twitter : 536\n",
            "cuman : 631\n",
            "ngetweet : 6859\n",
            "liat : 180\n",
            "home : 764\n",
            "berita : 64\n",
            "corona : 1\n",
            "panik : 125\n",
            "kepikiran : 1685\n",
            "ndamau : 14226\n",
            "buka2 : 14227\n",
            "home : 764\n",
            "yg : 6\n",
            "aware : 1570\n",
            "aja : 15\n",
            "i : 217\n",
            "ll : 6860\n",
            "stay : 259\n",
            "at : 537\n",
            "home : 764\n",
            "nda : 2772\n",
            "rumah : 37\n",
            "kalo : 26\n",
            "nda : 2772\n",
            "penting2 : 10051\n",
            "banget : 70\n"
          ]
        }
      ]
    },
    {
      "cell_type": "code",
      "metadata": {
        "colab": {
          "base_uri": "https://localhost:8080/"
        },
        "id": "qF9aPLof6eEC",
        "outputId": "1d0525f4-837a-4869-ad20-117c8d585b18"
      },
      "source": [
        "### Membuat embedding yang berisi hasil Word2Vec berdasarkan \n",
        "### indexed vocabulary yang tersedia\n",
        "\n",
        "### Inisialisasi matriks embedding dengan 0 berukuran\n",
        "### (length of vocabulary x vector size)\n",
        "import numpy as np\n",
        "\n",
        "embeddings = np.zeros((1+len(indexed_vocabulary), 300))\n",
        "\n",
        "for word, idx in indexed_vocabulary.items():\n",
        "  try:\n",
        "    embeddings[idx] = nlp_model[word]\n",
        "  except:\n",
        "    pass\n",
        "\n",
        "embeddings.shape"
      ],
      "execution_count": null,
      "outputs": [
        {
          "output_type": "stream",
          "name": "stderr",
          "text": [
            "/usr/local/lib/python3.7/dist-packages/ipykernel_launcher.py:12: DeprecationWarning: Call to deprecated `__getitem__` (Method will be removed in 4.0.0, use self.wv.__getitem__() instead).\n",
            "  if sys.path[0] == '':\n"
          ]
        },
        {
          "output_type": "execute_result",
          "data": {
            "text/plain": [
              "(46616, 300)"
            ]
          },
          "metadata": {},
          "execution_count": 126
        }
      ]
    },
    {
      "cell_type": "markdown",
      "metadata": {
        "id": "vn4y5UqY_rtP"
      },
      "source": [
        "## Preprocessing for Test Dataset"
      ]
    },
    {
      "cell_type": "code",
      "metadata": {
        "colab": {
          "base_uri": "https://localhost:8080/"
        },
        "id": "Jqb1Lqrgr7fT",
        "outputId": "bba2e00c-faf1-41e3-f266-fd514bc454f8"
      },
      "source": [
        "vocabs_test = []\n",
        "for text in test.text:\n",
        "  vocabs_test.append(word_tokenize(text))\n",
        "\n",
        "len(vocabs_test)"
      ],
      "execution_count": null,
      "outputs": [
        {
          "output_type": "execute_result",
          "data": {
            "text/plain": [
              "2800"
            ]
          },
          "metadata": {},
          "execution_count": 75
        }
      ]
    },
    {
      "cell_type": "code",
      "metadata": {
        "colab": {
          "base_uri": "https://localhost:8080/"
        },
        "id": "r1b9vJrvtW1O",
        "outputId": "56c207f3-c118-4a5e-c8ea-48d99084d3c9"
      },
      "source": [
        "tests_index = tokenizer.texts_to_sequences(vocabs_test)\n",
        "\n",
        "X_test = preprocessing.sequence.pad_sequences(tests_index, maxlen=28, padding='post', truncating='post')\n",
        "\n",
        "X_test.shape"
      ],
      "execution_count": null,
      "outputs": [
        {
          "output_type": "execute_result",
          "data": {
            "text/plain": [
              "(2800, 28)"
            ]
          },
          "metadata": {},
          "execution_count": 131
        }
      ]
    },
    {
      "cell_type": "markdown",
      "metadata": {
        "id": "8M3bsScohj5q"
      },
      "source": [
        "## Plot the NLP Model into Canvas"
      ]
    },
    {
      "cell_type": "code",
      "metadata": {
        "colab": {
          "base_uri": "https://localhost:8080/",
          "height": 374
        },
        "id": "FXnLSnIRhjAY",
        "outputId": "2a8a3131-ce54-4fff-a742-2223b992f274"
      },
      "source": [
        "from sklearn.manifold import TSNE\n",
        "import matplotlib.pyplot as plt\n",
        "\n",
        "def nlp_model_plot(vocab):\n",
        "  labels = []\n",
        "  wordvecs = []\n",
        "\n",
        "  for word in vocab:\n",
        "    try:\n",
        "      wordvecs.append(nlp_model[word])\n",
        "      labels.append(word)\n",
        "    except:\n",
        "      pass\n",
        "\n",
        "  tsne_model = TSNE(perplexity=3, n_components=2, init='pca', random_state=42)\n",
        "  coordinates = tsne_model.fit_transform(wordvecs)\n",
        "\n",
        "  x = []\n",
        "  y = []\n",
        "  for value in coordinates:\n",
        "    x.append(value[0])\n",
        "    y.append(value[1])\n",
        "  \n",
        "  plt.figure(figsize=(5,5))\n",
        "  for i in range(len(x)):\n",
        "    plt.scatter(x[i],y[i])\n",
        "    plt.annotate(labels[i],\n",
        "                 xy=(x[i],y[i]),\n",
        "                 xytext=(2,2),\n",
        "                 textcoords='offset points',\n",
        "                 ha='right',\n",
        "                 va='bottom')\n",
        "  \n",
        "  plt.show()\n",
        "\n",
        "vocab =['corona', 'virus',\n",
        "        'twitter', 'tweet',\n",
        "        'home', 'infeksi',\n",
        "        'normal', 'new']\n",
        "nlp_model_plot(vocab)"
      ],
      "execution_count": null,
      "outputs": [
        {
          "output_type": "stream",
          "name": "stderr",
          "text": [
            "/usr/local/lib/python3.7/dist-packages/ipykernel_launcher.py:10: DeprecationWarning: Call to deprecated `__getitem__` (Method will be removed in 4.0.0, use self.wv.__getitem__() instead).\n",
            "  # Remove the CWD from sys.path while we load stuff.\n"
          ]
        },
        {
          "output_type": "display_data",
          "data": {
            "image/png": "[encoded data removed]",
            "text/plain": [
              "<Figure size 360x360 with 1 Axes>"
            ]
          },
          "metadata": {
            "needs_background": "light"
          }
        }
      ]
    },
    {
      "cell_type": "markdown",
      "metadata": {
        "id": "78emvMRBqeiR"
      },
      "source": [
        "## Experiment the NLP Model"
      ]
    },
    {
      "cell_type": "code",
      "metadata": {
        "colab": {
          "base_uri": "https://localhost:8080/"
        },
        "id": "5O3kGYLDl8Pn",
        "outputId": "9db5d1de-4bc7-473c-8f36-6ca1d3e142a8"
      },
      "source": [
        "vec = nlp_model['virus'] + nlp_model['rs']\n",
        "nlp_model.most_similar([vec])"
      ],
      "execution_count": null,
      "outputs": [
        {
          "output_type": "stream",
          "name": "stderr",
          "text": [
            "/usr/local/lib/python3.7/dist-packages/ipykernel_launcher.py:1: DeprecationWarning: Call to deprecated `__getitem__` (Method will be removed in 4.0.0, use self.wv.__getitem__() instead).\n",
            "  \"\"\"Entry point for launching an IPython kernel.\n",
            "/usr/local/lib/python3.7/dist-packages/ipykernel_launcher.py:2: DeprecationWarning: Call to deprecated `most_similar` (Method will be removed in 4.0.0, use self.wv.most_similar() instead).\n",
            "  \n"
          ]
        },
        {
          "output_type": "execute_result",
          "data": {
            "text/plain": [
              "[('terkena', 0.9811563491821289),\n",
              " ('menangani', 0.969197690486908),\n",
              " ('virus', 0.9690920114517212),\n",
              " ('taubat', 0.9653226137161255),\n",
              " ('carrier', 0.9651033878326416),\n",
              " ('terpapar', 0.9638115167617798),\n",
              " ('terinfeksi', 0.9621962308883667),\n",
              " ('semoga', 0.9617286324501038),\n",
              " ('terjangkit', 0.9615384340286255),\n",
              " ('dinyatakan', 0.9610744714736938)]"
            ]
          },
          "metadata": {},
          "execution_count": 70
        }
      ]
    },
    {
      "cell_type": "markdown",
      "metadata": {
        "id": "zvS5tg-C83Y4"
      },
      "source": [
        "## Deep Learning"
      ]
    },
    {
      "cell_type": "code",
      "metadata": {
        "colab": {
          "base_uri": "https://localhost:8080/"
        },
        "id": "DzkwfCJj8yHp",
        "outputId": "d398c4e5-5c6a-4a6d-dffe-82fd54f4972b"
      },
      "source": [
        "from tensorflow.keras import models, layers\n",
        "\n",
        "model = models.Sequential([\n",
        "  layers.Input(shape=X_train.shape[1]),\n",
        "  layers.Embedding(input_dim=embeddings.shape[0],\n",
        "                     output_dim=embeddings.shape[1],\n",
        "                     weights=[embeddings],\n",
        "                     input_length=28,\n",
        "                     trainable=False),\n",
        "  layers.Bidirectional(layers.LSTM(units=15, dropout=0.2, \n",
        "                         return_sequences=True)),\n",
        "  layers.Bidirectional(layers.LSTM(units=15, dropout=0.2)),\n",
        "  layers.Dense(64, activation='relu'),\n",
        "  layers.Dense(1, activation='sigmoid')\n",
        "])\n",
        "\n",
        "model.compile(loss='binary_crossentropy',\n",
        "              optimizer='adam', metrics=['accuracy'])\n",
        "\n",
        "model.summary()"
      ],
      "execution_count": null,
      "outputs": [
        {
          "output_type": "stream",
          "name": "stdout",
          "text": [
            "Model: \"sequential_5\"\n",
            "_________________________________________________________________\n",
            "Layer (type)                 Output Shape              Param #   \n",
            "=================================================================\n",
            "embedding_5 (Embedding)      (None, 28, 300)           13984800  \n",
            "_________________________________________________________________\n",
            "bidirectional_10 (Bidirectio (None, 28, 30)            37920     \n",
            "_________________________________________________________________\n",
            "bidirectional_11 (Bidirectio (None, 30)                5520      \n",
            "_________________________________________________________________\n",
            "dense_10 (Dense)             (None, 64)                1984      \n",
            "_________________________________________________________________\n",
            "dense_11 (Dense)             (None, 1)                 65        \n",
            "=================================================================\n",
            "Total params: 14,030,289\n",
            "Trainable params: 45,489\n",
            "Non-trainable params: 13,984,800\n",
            "_________________________________________________________________\n"
          ]
        }
      ]
    },
    {
      "cell_type": "code",
      "metadata": {
        "colab": {
          "base_uri": "https://localhost:8080/"
        },
        "id": "R8vTyJNU9hUk",
        "outputId": "863ceb99-f1ce-4647-8780-e40cf676961a"
      },
      "source": [
        "model.fit(x=X_train, y=train.label, batch_size=256,\n",
        "          epochs=10, shuffle=True, validation_split=0.3)"
      ],
      "execution_count": null,
      "outputs": [
        {
          "output_type": "stream",
          "name": "stdout",
          "text": [
            "Epoch 1/10\n",
            "60/60 [==============================] - 21s 211ms/step - loss: 0.4680 - accuracy: 0.8040 - val_loss: 0.4787 - val_accuracy: 0.7858\n",
            "Epoch 2/10\n",
            "60/60 [==============================] - 11s 183ms/step - loss: 0.3848 - accuracy: 0.8325 - val_loss: 0.4491 - val_accuracy: 0.7897\n",
            "Epoch 3/10\n",
            "60/60 [==============================] - 11s 179ms/step - loss: 0.3788 - accuracy: 0.8348 - val_loss: 0.4221 - val_accuracy: 0.7996\n",
            "Epoch 4/10\n",
            "60/60 [==============================] - 11s 180ms/step - loss: 0.3647 - accuracy: 0.8416 - val_loss: 0.4181 - val_accuracy: 0.8135\n",
            "Epoch 5/10\n",
            "60/60 [==============================] - 11s 181ms/step - loss: 0.3590 - accuracy: 0.8440 - val_loss: 0.4102 - val_accuracy: 0.8131\n",
            "Epoch 6/10\n",
            "60/60 [==============================] - 11s 182ms/step - loss: 0.3540 - accuracy: 0.8474 - val_loss: 0.3783 - val_accuracy: 0.8314\n",
            "Epoch 7/10\n",
            "60/60 [==============================] - 11s 182ms/step - loss: 0.3491 - accuracy: 0.8479 - val_loss: 0.3821 - val_accuracy: 0.8269\n",
            "Epoch 8/10\n",
            "60/60 [==============================] - 11s 181ms/step - loss: 0.3437 - accuracy: 0.8517 - val_loss: 0.3747 - val_accuracy: 0.8340\n",
            "Epoch 9/10\n",
            "60/60 [==============================] - 11s 182ms/step - loss: 0.3450 - accuracy: 0.8493 - val_loss: 0.3816 - val_accuracy: 0.8287\n",
            "Epoch 10/10\n",
            "60/60 [==============================] - 11s 181ms/step - loss: 0.3384 - accuracy: 0.8554 - val_loss: 0.3742 - val_accuracy: 0.8389\n"
          ]
        },
        {
          "output_type": "execute_result",
          "data": {
            "text/plain": [
              "<keras.callbacks.History at 0x7f693aad8750>"
            ]
          },
          "metadata": {},
          "execution_count": 133
        }
      ]
    },
    {
      "cell_type": "code",
      "metadata": {
        "id": "USjfxysy_P4b",
        "colab": {
          "base_uri": "https://localhost:8080/"
        },
        "outputId": "6882900e-13c4-40ec-c6a5-5539dc3460f2"
      },
      "source": [
        "predict = model.predict(X_test)\n",
        "\n",
        "predict.shape"
      ],
      "execution_count": null,
      "outputs": [
        {
          "output_type": "execute_result",
          "data": {
            "text/plain": [
              "(2800, 1)"
            ]
          },
          "metadata": {},
          "execution_count": 134
        }
      ]
    },
    {
      "cell_type": "code",
      "metadata": {
        "colab": {
          "base_uri": "https://localhost:8080/"
        },
        "id": "Iyu7PJiDdcWq",
        "outputId": "1e314822-03c4-4ea8-ddcd-945e66f608c6"
      },
      "source": [
        "threshold = 0.8\n",
        "\n",
        "for i in range(len(predict)):\n",
        "  x = predict[i][0]\n",
        "  if(x >= threshold):\n",
        "    print(test.text[i])"
      ],
      "execution_count": null,
      "outputs": [
        {
          "output_type": "stream",
          "name": "stdout",
          "text": [
            "doakan indonesia selamat virus corona pkb depok gelar nusantara bershalawat\n",
            "tetangga 2 pasien corona depok diimbau rumah 14 14 warga tinggal rumah pasien corona depok jawa barat diimbau aktivitas petugas dinas kesehatan sumber merdeka com\n",
            "putraerlangga gubernur jabar ridwankamil virus corona bln hadir kota depok panik beliau warga antisipasi aja\n",
            "konologi 2 wni positif terkena virus corona\n",
            "jokowi wni terjangkit virus corona\n",
            "cegah virus corona simak kebiasaan kim kardashian darisuara\n",
            "info masyarakat kota bitung tercinta covid 19 covid corona marijokekotabitung colorfulbitung kotabitung bitung kotamanado airmadidi tomohon manado tondano amurang ratahan marijokabitung pesona bitungbahariberseri kotatomohon\n",
            "membangun bisnis bangun aset digital wabah virus corona melanda dunia\n",
            "jawa timur sehat indonesia maju kapolda jatim forkopimda jawa timur menggelar rangkaian gerakan jatimsehat acara maksudkan menyikapi nya kepanikan masyarakat virus corona jatimsehat semogajatimselalusehat\n",
            "antisipasi corona pemerintah siapkan strategi menjaga ketahanan ekonomi viruscorona indonesiamelawancorona coronaoutbreak\n",
            "hoaks pasien korona di indonesia\n",
            "repost pemkotsmg bergerak lawan corona salah upaya pemerintah kota semarang menangani pandemi covid 19 inisiatif pengumpulan sumbangan sukarela karyawan\n",
            "null 6 imbauan pemprov dki tangkal sebaran virus corona jakarta anies mengimbau wa https t co ls2xiybvq6\n",
            "corona mewabah anies bentuk tim tanggap covid 19 https t co giihya9bdy\n",
            "nasional virus corona menyerang indonesia presiden jokowi bicara stok masker https t co gledopeycd\n",
            "menunggu mahasiswa penemu pembasmi virus corona\n",
            "viral curhatan wni positif corona dilempar menkes terawan anaka buah https t co vvew3mjtte https t co p6ssqilm49\n",
            "fadli zon menkes terawan jumawa penyebaran virus corona https t co tcmerjwopd https t co p09kp8zvab\n",
            "safenetvoice menyemangati pasien corona pasien virus corona https t co k1m7k2eoqm\n",
            "update sumsel iran bangun rs pasien corona 4 https t co lgthplkr6r kesehatan\n",
            "wabah virus corona ferrari nasib tim tim berasal italia f1 2020 kumparansport\n",
            "dinkes jabar gerak cepat pantau virus corona didepok\n",
            "dkijakarta dinkesjkt warga bekasi depok tanggerang menghubungi call center darurat covid dki jakarta\n",
            "virus corona mewabah terbaru terdeteksi indonesia sepakbola dunia virus corona bikin kacau kompetisi sepakbola lho coronavirus viruscorona\n",
            "indonesia positif virus corona jokowi umumkan 2 wni terpapar virus youtube coronadiindoesia viruscorona presidenindonesia viruscorona umumkancorona kamuharustau\n",
            "yuk cegah virus corona sobat lazis mu tahukah gejala corona tanda 1 demam 14 bepergian daerah terdampak 2 infeksi saluran pernapasan\n",
            "wni positif virus corona terjangkit depok\n",
            "cegah corona anies imbau warga dki rutin cuci tangan\n",
            "breaking news indonesia 2 orang positif corona\n",
            "wariman jokowi yth bpk presiden saran terkait wabah corona penggunaan air indonesia tambahan zat desinfektan upaya pencegahan sterilisasi daerah indonesia\n",
            "yg lakukan positif corona\n",
            "mymotac mohon tangguhkan berkumpul beramai ramai menyebabkan penularan covid 19 patuhi arahan pm\n",
            "mata hati rizmawidiono cegah penularan virus corona dukungjokowibasmicorona\n",
            "sidewii naikan mentri terpapar virus corona\n",
            "virus corona virus radikal intel utk mengawasi indonesiabutuhpemimpin\n",
            "antisipasi virus corona abus kana calana\n",
            "angin dari utara ke selatan membawa wabah penyakit ke indonesia\n",
            "hoaks angin membawa penyakit corona\n",
            "hoax virus corona diindonesia\n",
            "hoaks virus udara\n",
            "jogging menyebabkan penularan virus covid 19\n",
            "hoaks pasien corona indonesia\n",
            "pers sat polair himbauan masyarakat nelayan mudik dlm rangka antisipasi penyebaran covid 19\n",
            "hoaks corona di indonesia\n",
            "hoaks corona indonesia\n",
            "“Belajar dari Rumah TVRI, Murid Dicekoki Mimbar Katolik?”\n",
            "ariel noah relawan tenaga medis pandemi virus corona covid 19\n",
            "Jumlah PDP di Sumatera Barat\n",
            "data covid19 di indonesia\n",
            "hoaks pasien covid di indonesia\n",
            "hoaks virus corona\n",
            "hoaks pasien corona\n",
            "dapat membunuh virus corona\n",
            "hoaks berkumur air garam dapat mencegah korona\n",
            "Fakta Baru Gejala Corona, Waspada Jika Berdekatan dengan Orang dengan Ciri-ciri Ini\n",
            "merokok dapat mencegah corona\n",
            "kasus virus korona di indonesia\n",
            "hoaks jahe bisa menangkal Corona\n",
            "“Hoax seputar virus corona menyebabkan kerusakan pada jaringan telekomunikasi di Inggris. Sejumlah tower 5G di Inggris dibakar karena hoax yang mengatakan bahwa 5G menyebabkan virus\n",
            "hoaks isu korona di indonesia\n",
            "viral media sosial pesan menyebut obat amoxicillin tangkal virus corona hoax\n",
            "Belum lama ini beredar pesan informasi menyatakan bahwa Amoxicillin diklaim bisa mencegah virus corona COVID-19 dengan cara meletakkannya ke dalam tandon air. \"Pesan dari habib Ja'far bin Muhammad bin Hamid, taruh 2 biji obat amoxicillin kedalam tandon air di rumah, jangan di logika karena ini yang juga disampaikan kepada pak Luhut Binsar Panjaitan dan sudah dilaksanakan di rumah kepresidenan dan dinas-dinas lain,\" isi dari pesan tersebut.\n",
            "Beredar Info Pemalakan Warga di Cideng Jakpus, Polisi: Hoax!\n",
            "beredar pesan informasi amoxicillin diklaim mencegah virus corona covid 19 meletakkannya tandon air\n",
            "ada berita beredar di whatsapp Mulai hari ini Selasa, tanggal 24 Maret 2020, Semua Warga Negara Berhak mendapatkan kompensasi Rp 350.000 per hari untuk tinggal di rumah dalam rangka menghindari penyebaran COVID-19; Novel Coronavirus. Pelayanan ini dapat diakses oleh semua orang, tidak memandang satu status pekerjaan. Segera daftarkan NIK anda dan isi formulir dalam site dibawah ini: https://bit.ly/2vvme6X\n",
            "hoax virus corona\n",
            "Youtube pada April 2019 sebelum wabah COVID-19 berlangsung.\n",
            "video puluhan pasien virus corona kejang kejang\n",
            "null 6 imbauan pemprov dki tangkal sebaran virus corona jakarta anies mengimbau wa https t co beaikhhskm\n",
            "null 6 imbauan pemprov dki tangkal sebaran virus corona jakarta anies mengimbau wa https t co iz07085wwn\n",
            "menunggu sop negara warga menghindari corona sesuai insting\n",
            "dokter beberkan fakta virus corona covid 19 terbaika menghadapi nya https t co z2fzql3qip https t co ycjw9fe1cv\n",
            "penurunan daya tahan tubuh menyebabkan manusia rentan penularan menyebabkan sakit https t co gidfa0uxav\n",
            "imbauan sutiaji warga malang sikapi wabah virus corona waspada https t co dbbvposu4n\n",
            "menkes positif positif negatif negatif https t co 6s2yxjyulp\n",
            "2 orang positif corona ri penjelasan menkes terawan stoppaniklawancorona https t co 71faglgvnt\n",
            "menteri kesehatan terawan agus putranto kota depok diisolasi mencegah penyebaran virus corona akoeya nutup ak nya https t co f2b50whklz\n",
            "sekolah internasional jakarta diliburkan guru diduga terinfeksi corona https t co sdtuuobewu via tribun palu\n",
            "wni terjangkit corona kemendikbud liburkan siswa https t co 1v8en7lpgx\n",
            "masuk indonesia virus corona menular jarak 2 meter https t co 8zwb7kxl2f https t co dpsuj2w3bt\n",
            "rsud depok siapkan perawatan pasien terindikasi covid 19 news jawa barat\n",
            "virus corona positif menyebar indonesia wni terinfeksi tips pencegahan nya\n",
            "tangkal virus corona pemerintah periksa berkala pekerja asing\n",
            "menyusul informasi warga depok positif terinfeksi virus corona pemerintah kian menunjukan keseriusan menangangi penyebaran wabah virus indonesia\n",
            "apakah virus shut out benar dapat membunuh virus?\n",
            "kelurahan cigadung red zone titik penyebaran covid 19 bandung\n",
            "kota tegal lockdown corona\n",
            "hoax hoax hoax hoaks\n",
            "Belum lama ini beredar pesan informasi menyatakan bahwa Amoxicillin diklaim bisa mencegah virus corona COVID-19 dengan cara meletakkannya ke dalam tandon air.\n",
            "Pasien Positif Corona Kabur dari RSAL Mintohardjo\n",
            "hoaks jahe menangkal corona\n",
            "hoaks jenazah dibuka plastiknya di pekanbaru\n",
            "viral amoxicillin bunuh virus corona hoax\n",
            "pegawai di phk corona\n",
            "hoaks selasa besok tanggal 24 maret 2020 warga negara berhak kompensasi rp 350 000 tinggal rumah rangka menghindari penyebaran covid 19 novel coronavirus https bit ly 2vvme6x\n",
            "Korban virus Corona di mall pantai indah kapuk\n",
            "hoaks listrik gratis dan diskon\n",
            "hoaks pasien corona indonesia\n",
            "hoaks Mulai Selasa besok, tanggal 24 Maret 2020, Semua Warga Negara Berhak mendapatkan kompensasi Rp 350.000 per bulan untuk tinggal di rumah dalam rangka menghindari penyebaran COVID-19; Novel Coronavirus. Pelayanan ini dapat diakses oleh semua orang, tidak memandang satu status pekerjaan. Segera daftarkan NIK anda dan isi formulir dalam site dibawah ini: https://bit.ly/2vvme6X 🙏💪\n",
            "hoaks selasa besok tanggal 24 maret 2020 warga negara berhak kompensasi rp 350 000 tinggal rumah rangka menghindari penyebaran covid 19 novel coronavirus pelayanan diakses orang memandang status pekerjaan daftarkan nik isi formulir site dibawah https bit ly 2vvme6x\n",
            "Video tersebut tidak terkait dengan virus Corona atau wabah COVID-19. Video serupa pernah tayang di Youtube pada April 2019 sebelum wabah COVID-19 berlangsung.\n",
            "pemerintah tetapkan darurat bencana corona 29 mei 2020\n",
            "turis china bali positif terjangkit virus corona\n",
            "kepanikan mempersulit memicu harga harga produk kesehatan mengantisipasi penyebaran virus corona kian https t co fgkrirfl5t\n",
            "pandemi covid 19 hkti gandeng mac bentuk posko peduli\n",
            "wni positif terinfeksi covid 19 yuk perkuat imunitas mengonsumsi rempah herbal asli indonesia https t co 6u66rlafab corona depok cucitangan breakingnews covid19indonesia coronavirusindonesia\n",
            "virus corona komunikasi politik pemerintah https t co qkel5tfr6y\n",
            "menkes fobia gerakan hidup sehat cegah corona fo https t co 5pjq4wdfta\n",
            "virus corona tercatat viruscorona coronavirusupdate https t co bbstb7clfl\n",
            "kilat geely kembangkan penangkal virus corona mobil 20 geely icon https t co uxxwszvwv1\n",
            "null rumah wni terinfeksi corona diisolasi kronologi penularan disorot https t co zfmmbxq4me\n",
            "https t co q2uhx3hwox menit 3 25 tips terhindar virus corona\n",
            "cegah virus corona pengawasan bandara pelabuhan internasional sesuai prosedur https t co uniyunazno\n",
            "4 212 jiwa terinfeksi korea selatan negara corona tiongkok https t co aatc9xx9he\n",
            "warganet formula e digelar juni maret opung luhut wabah corona mereda sabar ngapah https t co ezhuclalmk https t co trwk12k9zp\n",
            "terawan menyebut pembatasan kegiatan isolasi rumah warga terinfeksi virus corona depok gt nasional https t co y2dnmygc8r\n",
            "tim tanggap corona aniesbaswedan tamparan ditampar\n",
            "null stasiun kereta terminal bus siaga corona orang warga negara indonesi https t co y7n0zofz6t\n",
            "null stasiun kereta terminal bus siaga corona orang warga negara indonesi https t co a1nkfwfe6b\n",
            "pedangdut ayu ting ting kaget mendengar warga depok terinfeksi virus corona ayutingting https t co xffgr7nz4r\n",
            "pencegahan penularan virus corona orang mengantisipasi mengonsumsi suplemen efektifkah tindakan https t co bqos4ium06\n",
            "115 warga dipantau corona komisi ix kemenkes tolong masyarakat dininabobokan https t co 6gkqyv2xnt\n",
            "null menkes fobia gerakan hidup sehat cegah corona fo https t co zrnh5zl9d9\n",
            "null menkes fobia gerakan hidup sehat cegah corona fo https t co cdyohpnztb\n",
            "presiden pemerintah upaya mencegah masuk nya virus korona mengantisipasi penularan virus covid19 corona korona virus https t co k5fxlpjy6w\n",
            "2 wni positif corona dinkes cilacap masyarakat waspada panik pasca presiden joko widodo mengumumkan nya 2 orang wni terjangkit virus corona persiapan mengantisipasi menyebar nya virus daerah https t co dffgdmiytc\n",
            "dr h hilmy muhammad masyarakat panik virus corona https t co ypyendbcbv\n",
            "berita perkembangan penanganan pencegahan penyebaran virus corona indonesia\n",
            "lydiamrsa depok 2 warga nya positif corona\n",
            "menkes bantah pernyataan anies virus corona https t co pdveqbi1jy via tribunnews\n",
            "diantisipasi anies baswedan dgn menerbitkan instruksi gubernur ttg virus corona dibantah keras menkes pernyataan gubernur dki trsbt diumumkan presiden jokowi bhw 2 org positif virus corona coronabukaborokrezim coronabukaborokrezim https t co wz6snp3ibq\n",
            "menkes 2 warga positif corona kondisi sehat indonesiasiangtvri mediapemersatubangsa viruscorona covid 19 https t co 0hktw2eawy\n",
            "gila bpjs kesehatan menanggung pasien positif terkena virus corona alasan nya sesuai keputusan menteri kesehatan ri nomor hk 01 07 menkes 104 2020 coronabukaborokrezim coronabukaborokrezim https t co qquyz5tvus\n",
            "menkes jaga imunitas pola hidup bersih cegah terinfeksi virus elshintaedisisiang https t co u6ugortczk https t co 3kgf2ecwwi\n",
            "menkes panik hadapi virus corona kiasumarketer viruscorona coronavirus covid19 https t co kuwi8ohhbp\n",
            "menkes jaga imunitas pola hidup bersih cegah terinfeksi virus https t co gxyz6zlrgx elshintamedan elshintaedisisiang kamitidaktakutviruscorona https t co gxc9zuorcd\n",
            "virus corona mewabah terbaru terdeteksi indonesia sepakbola dunia virus corona bikin kacau kompetisi\n",
            "menyoal fenomena gunung es pagebluk virus corona indonesia https t co tdurzfjnhv\n",
            "antisipasi wabah virus corona rsud siak siapkan 2 ruang isolasi https t co 53qo9b7hej https t co 976r4ivogo\n",
            "menkes close contact positif covid 19 sakit elshintaedisisiang https t co eqydtrynjb https t co qwe70l2vaq\n",
            "sobat silakan simak informasi terkait virus corona jaga kesehatan ya sob pdsi pdsipertamina hssecorner https t co riklmimsxk\n",
            "assalamualaikum soba hajimuda presiden ri joko widodo orang warga nya positif terkena virus corona terbaru puluhan orang depok dikabarkan terinidikasi virus mematikan mari doakan terbebas virus\n",
            "wabah virus corona mui serukan muslim berzikir baca qunuta nazilah https t co sgs569rqsb https t co fv77n6qonm\n",
            "anies larang warga gejala corona periksa puskesmas rs alasan nya https t co wogmd7sx6n\n",
            "wabah virus corona mui serukan muslim berzikir baca qunuta nazilah https t co upiepcqbcv https t co dj2n05y7cp\n",
            "orang indonesia positif terinfeksi waspadai 4 penularan virus corona https t co a18zmpb8gx https t co oqsevkoq3d\n",
            "fakta fakta amigos kemang dituduh sebar corona https t co xq54ejckyp vivanews\n",
            "korea selatan menangani wabah corona https t co pmgbvbaeew\n",
            "apresiasi mcdonalds id menyediakan pembersih tangan mencegah wabah virus corona indonesia wastafel\n",
            "kimia farma sosialisasi masyarakat upaya mencegah penyebaran corona\n",
            "4 wni terjangkit corona jepang sembuh alhamdulillah puji syukur semangatindonesia ruhulmaani caknur14 fajar istan zlametabidin stellasuwardi\n",
            "pengakuan mengejutkan pasien sembuh virus corona https t co stlm4t7zgr https t co nchez1n3oj\n",
            "corona masuk indonesia barang dipakai pengunjung mal https t co vvg5uas8te\n",
            "kakanwil harap tim pora berperan menangkal virus corona bojonegoro merebak nya virus corona dunia indonesia salah isu aktual diangkat rapat koordinasi tim pengawasan orang\n",
            "jokowi bikin basis data pasien corona\n",
            "antisipasi virus corona muhammadiyah kalteng serukan 4 halini\n",
            "upaya menyembunyikan informasi skandal membahayakan kehidupan masyarakat penanganan amatiran virus corona sikap bertanggung rezimtutupicorona\n",
            "sekritis virus corona dianggap remeh kedepan nya kerjasama gubernur anies menangani coronavirusupdate coronaoutbreak\n",
            "petugas medis diduga terkena virus corona tinggal depok\n",
            "wali kota depok pasien positif corona stres pegang hp nya pegang hape stress\n",
            "aktivitas warga depok normal warga terinfeksi covid 19 news jawa barat\n",
            "null sorotan penjelasan terkini wali kota depok corona orang\n",
            "kota depok bojongsari sawangan kota jakarta barat cengkareng grogol petamburan kalideres tamansari tambora kab tangerang cikupa cisauk cisoka curug jambe jayanti kemiri kosambi kronjo legok mekarbaru pagedangan panongan rajeg\n",
            "pemerintah kota depok menetapkan virus corona covid 19 status kejadian\n",
            "langkah kepedulian bumn negeri bank mandiri membagikan 10 000 masker lokasi kota depok bumnsiaplawancorona\n",
            "wali kota depok pasien positif corona stres pegang hp pt bestprofit futures surabaya\n",
            "bank mandiri membagikan 10 000 masker lokasi stasiun pasar kota depok mengantisipasi penyebaran virus korona bumnsiaplawancorona\n",
            "bantuan bumnsiaplawancorona bank mandiri membagikan 10 000 masker lokasi stasiun pasar kota depok mengantisipasi penyebaran virus korona\n",
            "daerah pasca 2 warga depok positif corona aktivitas normal\n",
            "pasien suspect corona depok kartu bpjs corona coronavirus via youtube\n",
            "masker murah guru diduga terinfeksi virus corona jakarta selatan\n",
            "2 warga depok positif terjangkit virus covid 19 kondisi pulang gitu dirawat 5 kedepan dirawat rs dr sulianti saroso bin martakusuma berty69968038 anto ich aslididi\n",
            "2 warga depok positif corona pemerintah pelototi dampak ekonomi nya darisuara\n",
            "kemunculan virus corona depok pemkot tangerang selatan siaga pencegahan lokasi nya bertetangga\n",
            "mohammad idris warga depok terkonfirmasi corona dirujuk rs corona viruscorona via youtube\n",
            "pemerintah kota depok membentuk tim crisis center covid 19 pemantauan pengawasan pelaporan penyebaran coronavirus hubungi hotline depoktanggapcovid19 112 119 memiliki seputar covid 19 laporan\n",
            "warga memeriksakan dokter mengalami gejala gejala virus corona warga diimbau terbuka dokter viruscorona depok\n",
            "berdasarkan info kemenkes corona virus mempan fakboi anak tiktok\n",
            "terkait virus corona walikota berharap warga depok tenang panik\n",
            "indonesia terlambat virus corona\n",
            "2 warga depok diduga terpapar virus corona 22 januari dinkes infokan 8 terlambat yg tangani dg semoga menyebar\n",
            "anies baswedan bentuk tim khusus posko tanggap virus corona markas nya kantor dinkes gambir wartakotalive\n",
            "hendrawanmuham1 afriyn cnnindonesia teddychyaw jokowi hasil fix artian pasien benar2 positif menderita penyakit corona kementerian mengumumkan berita pemerintah mengeluarkan informasi berdasarkan data valid menimbulkan kebingungan masyarakat\n",
            "negara dunia berjibaku melawan virus corona rakyat panik ketakutan pemerintah orang gudang virus innalillahi wainnailaihi rojiun jokowi mohmahfudmd kemhan ri nataliuspigai2 fahiraidris brigadenkri\n",
            "kronologi 2 warga depok positif virus corona indonesia\n",
            "panik atasi cegah penularan virus corona polribantucegahcorona\n",
            "update virus corona negara laporkan 85 pasien sembuh 53 688 orang\n",
            "diskes riau terbuka informasi corona\n",
            "jangan salah 2 orang diduga terjangkit virus corona curiga ucapkan indonesia 2 orang terjangkit virus corona menahan buang air\n",
            "pekerja pabrik chip samsung terpapar virus corona\n",
            "melindungi virus corona bengkulu news\n",
            "virus corona pemuda muhammadiyah pemerintah cegah munculnya kepanikan rmolbengkulu\n",
            "pemerintah kedodoran mengantisipasi penularan wabah corona tingkat pencegahan minim bandara corona bebas masuk indonesia\n",
            "10 corona jatim pengawasan balitbangkes dinkes\n",
            "corona masuk indonesia china depok corona\n",
            "darurat corona jenis bunga matahari tingkatkan imun tubuh\n",
            "perusahaan wajib sediakan masker cegah corona\n",
            "rasakan republik investasi china pindah ibukota penanganan corona indonesiabutuhpemimpin\n",
            "jenderal kebal virus corona info terbatas\n",
            "jokowi jokowi yth bpk presiden saran terkait wabah corona penggunaan air indonesia tambahan zat desinfektan upaya pencegahan sterilisasi daerah indonesia\n",
            "upaya pencegahan penyebaran virus corona pemeriksaan suhu tubuh penumpang memasuki stasiun mrt via mrtjakarta\n",
            "fiersabesari jokowi yth bpk presiden saran terkait wabah corona penggunaan air indonesia tambahan zat desinfektan upaya pencegahan sterilisasi daerah indonesia\n",
            "himbauan plt jepara masandijepara pencegahan virus corona dprdjepara lawancorona covid2019 jepara\n",
            "pemerintah buka rincian daerah sebaran virus corona indonesia via tribunnews\n",
            "china klaim puncak wabah covid 19\n",
            "breaking news 1 balita diy terkonfirmasi positif virus corona yogyakarta jogja jogjakarta beritaterkini berita trendingtopic trendingnow coronavirusupdates coronavirusupdates coronavirus\n",
            "virus masuk indonesia mewanti wanti virus berbahaya terlanjur masuk mari lawan covid 19\n",
            "rapat malam malam gubernur ganjar bahas kebijakan terkait corona ganjarpranowo\n",
            "avg 97jaehyun avg 00eunbin johnnysouh mencegah penyebaran corona\n",
            "gito51226 cegah wabah virus corona dukungjokowibasmicorona\n",
            "jokowi bin tangani covid 19 pedagang bakso kosan\n",
            "aplikasi covid 19 warga jabar ridwan kamil update corona dijadwalkan selasa 17 maret rampung\n",
            "menyebar 120 negara perkembangan terbaru pandemi corona covid 19\n",
            "pemkot solo anggarkan rp 2 miliar perangi virus corona wali kota\n",
            "terusblokir cegah penularan virus corona dukungjokowibasmicorona\n",
            "indonesia darurat corona\n",
            "pemda sukses mengatasi corona dapet sepeda\n",
            "surat edaran bupati ngawi terkait peningkatan kewaspadaan covid 19 sekolah masuk selangka nya baca teliti\n",
            "fasilitas disediakan bupati bogor gratiskan layanan tes virus corona warga\n",
            "polri menghimbau mengajak masyarakat antisipasi virus corona bersatutangkalcorona\n",
            "skrinews kepedulian kapolres bitung bentuk korvei wujut kepedulian lingkungan mengantisipasi penyebaran virus corona\n",
            "pertamina sosialisasikan pencegahan virus corona covid 19 papuankrijaya papua opm nduga timika\n",
            "inforaka berdasarkan data minggu 22 30 peta sebaran covid 19 terpampang enam pasien positif virus corona jawa barat lengkap nama desa kelurahan tinggal nya\n",
            "6 imbauan pemprov dki tangkal sebaran virus corona jakarta anies mengimbau wa https t co 0fzbhroqmm\n",
            "null 6 imbauan pemprov dki tangkal sebaran virus corona jakarta anies mengimbau wa https t co cglo27o6rt\n",
            "pemerintah kekeh buka riwayat perjalanan pasien corona corona merahputih\n",
            "kepala bidang penanganan pengendalian penyakit dinkes depok umi zakiyati mengaku nya warga depok terpapar virus corona rabu 22 januari 2020 https t co sp3j3xgpts\n",
            "himbauan polri masyarakat terkait virusa corona https t co 3k9fhunhkd https t co zu1oovxog5\n",
            "bantu share daftar rumah sakit rujukan virus corona https t co ieafykl66w\n",
            "null menkes fobia gerakan hidup sehat cegah corona fo https t co gzhdqszh11\n",
            "check out a great article pemprov riau bentuk tim pie pencegahan virus corona https t co tclooqui3m\n",
            "menkes terawan lokasi orang dinyatakan positif virus corona https t co jodo9uxpfi\n",
            "dokter tanaman obat keluarga cegah virus corona moms userstory https t co tlw634kgm4\n",
            "breaking news rip aoei anggota majelis permusyawaratan islam iran meninggal virus corona https t co zhh66i7bt1\n",
            "ahli ahli dikerahkan memeriksa spesimen pasien diduga terinfeksi virus corona https t co 0m8o0k2kxe\n",
            "aman melindungi virus corona rebahan dikamar\n",
            "nasional air mengalir efektif bersihkan tangan cegah paparan virus corona https t co untrlgbpje\n",
            "antisipasi corona presiden panggil menkeu gubernur bi ketua ojk https t co 37amp6wbkv https t co am2mkngktv\n",
            "null stasiun kereta terminal bus siaga corona orang warga negara indonesi https t co ujwbs4xan2\n",
            "null stasiun kereta terminal bus siaga corona orang warga negara indonesi https t co gwux4vggck\n",
            "indonesia ketolola nya wabah corona positif indonesia langsung harga2 naikin dasar manusia manusia sampah https t co ajsu9hfuhi\n",
            "2 wni terinfeksi corona pemerintah didesak perketat pintu masuk wna https t co wern5buczs https t co gkvrhvys11 via merdekadotcom\n",
            "mohon maaf bpjs tanggung pasien positif corona https t co fjrso6vo6l\n",
            "dki siapkan antisipasi penyebaran corona transportasi publik https t co myo0bq4ixk vivanews\n",
            "jawa barat siaga 1 virus corona https t co f7pg2gzxqm https t co loljw1ml4g\n",
            "virus corona indonesia menginfeksi warga tinggal depok jawa barat warga nya positif corona tetangga nya khawatir topnews https t co vxtjpglhhj https t co h67c67ti3v\n",
            "2 orang positif corona ri penjelasan menkes terawan stoppaniklawancorona https t co azlxxfz8va https t co ayfcjnmszp\n",
            "pemerintah khusus nya menteri kesehatan terawan agus putranto mengubah model komunikasi publik virus corona validnih stoppaniklawancorona https t co 8njplj3zsb\n",
            "orang indonesia positif corona media asing sindir sikap menkes terawan https t co lnkmztmn3x https t co ltkyytrqwc\n",
            "2 orang positif corona ri penjelasan menkes terawan stoppaniklawancorona https t co pyyetikjnq https t co hlkxtjjdl0\n",
            "resmi 2 wni positif corona penjelasan menkes kiasumarketer indonesia covid https t co qcxym5rwno\n",
            "jitunews menkes dituding sok hebat terkait virus corona fadli zon arogansi adaak https t co ehkd4g6mvd\n",
            "menkes standar who orang sehat pakai masker https t co 8oe7ae2ku4 https t co lbmqoblyfp\n",
            "2 orang positif corona ri penjelasan menkes terawan stoppaniklawancorona https t co ticpjnyvxc https t co 3374h4mdg5\n",
            "media asing soroti sikap menkes terawan wni positif corona https t co zww0aqicly\n",
            "kinan18069393 presiden udah umumkan mba 2 orang depok yg positif terinfeksi virus corona\n",
            "virus corona covid 19 tembus indonesia kenali gejala nya https t co 28jomikul4\n",
            "cepat nya penyebaran virus corona kementerian kesehatan kementerian ekonomi jerman itb berlin dibatalkan itbberlin coronaoutbreak https t co 6w0ayuudhz\n",
            "2 wni teridentifikasi corona penanganan https t co 01fuva5wn1\n",
            "kronologi pasien positif corona tracking berjalan guys https t co smxsxkn25w\n",
            "suv china fitur penangkal virus corona virus corona mewabah 2020 pabrikan otomotif mencari mengembangkan peranti anticorona disematkan mobil\n",
            "breaking anggota majelis permusyawaratan islam iran meninggal virus corona\n",
            "negatif virus corona dinkes ngawi pantau kesehatan 20 eks pekerja migran times indonesia\n",
            "jokowi akses wisatawan asing negara sebaran corona terbesar distop ketimbang\n",
            "wni positif corona pameran mobil komersial digelar ditemukan nya warga depok terinfeksi corona menunda indonesia mengehelat pameran otomotif\n",
            "2 wni positif terinfeksi corona dijakarta\n",
            "chat whatsapp pasien positif corona depok viral keberatan foto diekspos amp kronologi\n",
            "petugas medis diduga terkena virus corona tinggal depok beritaislam eramuslim\n",
            "null walkot depok 4 tetangga pasien positif corona pemantauan 4 tetang\n",
            "pasien positif virus corona berdomisili depok warga perumahan panik kasur bun\n",
            "pemerintah sanksi penyebar identitas yg positif terkena virus corona krna tiba2 tersebar nya identitas pasien virus corona depok grup whats app kepolisian sdg menyelidiki pelaku penyebar identitas tsb sekapurtulis\n",
            "bumnsiaplawancorona bumn jaya bank mandiri membagikan 10 000 masker lokasi stasiun pasar kota depok mengantisipasi penyebaran virus korona\n",
            "berita heboh 2 warga depok positif corona tetangga ojoltakut\n",
            "pemeriksaan ketat masuk rumah sakit depok vivanews\n",
            "rezimtutupicorona virus corona landa indonesia pemerintah berbuat isu virus corona melanda tanah air warga depok jawa barat diamankan dibawa salah rumah sakit jakarta utara\n",
            "warga depok positif corona masyarakat banjarmasin berburu masker tulisan masker anti septik antis detol kosong terpajang kios apotek arif pasar permai lantai ii banjarmasin selasa\n",
            "virus corona wabah penyakit penduduk indonesia resah ditemukan warga depok 2 orang terkena penyakit corona kepanikan daerah tsb coronavirusindonesia\n",
            "pemerintah korea selatan terpaksa mengucurkan dana usd 9 8 miliar viruscorona\n",
            "warga singapura positif corona pulang jakarta beritasatu\n",
            "upaya jaga kebersihan dinilai menangkal virus corona\n",
            "hore saham mika menghijau pasca menangani warga depok terpapar virus corona dampakviruscorona\n",
            "kemenkesri menyediakan hotline virus corona diskusiinteraktifelshinta\n",
            "penyebaran virus salah ikhtiar terbaik rutin mengkonsumsi propolis virus corona covid 19 indonesiabritishpropolis britishpropolis propolisajaib\n",
            "organisasi kesehatan dunia mengeluarkan peringatan terkait kebohongan informasi seputar virus corona\n",
            "jajaran puskesmas kota depok mengantisipasi corona\n",
            "4 terawan menyebut virus corona indonesia terdeteksi minggu kemarin mendengar berita pemerintah langsung pemeriksaan covid19indonesia\n",
            "hadapi wabah corona pemuda muhammadiyah pemerintah cegah munculnya kepanikan\n"
          ]
        }
      ]
    }
  ]
}